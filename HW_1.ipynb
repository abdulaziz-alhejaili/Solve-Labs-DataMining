{
 "cells": [
  {
   "cell_type": "markdown",
   "metadata": {},
   "source": [
    "<h1> HomeWork 1 <h1>\n",
    "\n",
    "\n",
    "\\begin{equation*}\n",
    " f(x) = a_{0} + \\sum_{n=1}^{\\infty}\\Bigl(a_{n} \\cos \\frac{n{\\pi}x}{L}+b_n \\sin\\frac{n{\\pi}x}{L}\\Bigr)\n",
    "\\end{equation*}\n",
    "\n",
    "\\begin{equation*}\n",
    " (x+a)^n =  \\sum_{k=0}^{n} {n \\choose k} x^{k}a^{n-k}\n",
    "\\end{equation*}\n",
    "\n",
    "\n"
   ]
  }
 ],
 "metadata": {
  "kernelspec": {
   "display_name": "Python 3",
   "language": "python",
   "name": "python3"
  },
  "language_info": {
   "codemirror_mode": {
    "name": "ipython",
    "version": 3
   },
   "file_extension": ".py",
   "mimetype": "text/x-python",
   "name": "python",
   "nbconvert_exporter": "python",
   "pygments_lexer": "ipython3",
   "version": "3.7.4"
  }
 },
 "nbformat": 4,
 "nbformat_minor": 2
}
