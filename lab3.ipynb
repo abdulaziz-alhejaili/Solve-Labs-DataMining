{
 "cells": [
  {
   "cell_type": "code",
   "execution_count": 13,
   "metadata": {},
   "outputs": [
    {
     "name": "stdout",
     "output_type": "stream",
     "text": [
      "Welcome\n",
      "7 42\n"
     ]
    }
   ],
   "source": [
    "def con(f):\n",
    "    f=42\n",
    "    return f\n",
    "\n",
    "if __name__ == \"__main__\":\n",
    "    print('Welcome')\n",
    "    f=7\n",
    "    ff= con(f)\n",
    "    print(f ,ff)"
   ]
  },
  {
   "cell_type": "markdown",
   "metadata": {},
   "source": [
    "<h3>In the main function, Did the value of fav variable change after invoking the main function?<h3>\n",
    "    <p>no<p>\n",
    "    \n",
    "<h3>Can you explain the reason behind that?<h3>\n",
    "    <p>Because the variables have different address<p>"
   ]
  },
  {
   "cell_type": "code",
   "execution_count": 15,
   "metadata": {},
   "outputs": [
    {
     "name": "stdout",
     "output_type": "stream",
     "text": [
      "inside thw function  :   {'A': 28, 'B': 25, 'C': 32, 'D': 25, 'E': 30, 'F': 28}\n",
      "outside  thw function  :  {'A': 28, 'B': 25, 'C': 32, 'D': 25, 'E': 30, 'F': 28}\n"
     ]
    }
   ],
   "source": [
    "st = {'A':28,'B':25,'C':32,'D':25}\n",
    "def test(st):\n",
    "    new={'E':30,'F':28}\n",
    "    st.update(new)\n",
    "    print(\"inside thw function  :  \",st)\n",
    "    return \n",
    "\n",
    "test(st)\n",
    "print(\"outside  thw function  : \", st)\n"
   ]
  },
  {
   "cell_type": "markdown",
   "metadata": {},
   "source": [
    "<h2>Are the outputs same in both call? Write your observation below:<h2>\n",
    "    <p> yes , Because when I use set, list or dictionaries take same address <p>\n",
    "    \n",
    "<h2> Can you explain the difference between the outputs of Example 1 and Example 2?? <h2>\n",
    "    <p>The address is different in the first example. In the second example, it takes the same address<p>"
   ]
  },
  {
   "cell_type": "markdown",
   "metadata": {},
   "source": [
    "# Exercise 2.1"
   ]
  },
  {
   "cell_type": "code",
   "execution_count": 38,
   "metadata": {},
   "outputs": [
    {
     "name": "stdout",
     "output_type": "stream",
     "text": [
      "abdulaziz [2]\n"
     ]
    }
   ],
   "source": [
    "class student:\n",
    "    name=\"\"\n",
    "    \n",
    "    def __init__(self,name):\n",
    "        self.name = name\n",
    "        self.c_list=[2]\n",
    "          \n",
    "st = student(\"abdulaziz\")\n",
    "print(st.name , st.c_list)\n",
    "        "
   ]
  },
  {
   "cell_type": "markdown",
   "metadata": {},
   "source": [
    "# 2.1.Methods"
   ]
  },
  {
   "cell_type": "markdown",
   "metadata": {},
   "source": [
    "# Exercise 2.2\n",
    "\n",
    "<h2>Can you explain why we did that? append() <h2>\n",
    " \n",
    "<p>I was used append with first Example because I can insert more than one values<p>\n"
   ]
  },
  {
   "cell_type": "markdown",
   "metadata": {},
   "source": [
    "# Exercise 2.3"
   ]
  },
  {
   "cell_type": "code",
   "execution_count": 8,
   "metadata": {},
   "outputs": [
    {
     "name": "stdout",
     "output_type": "stream",
     "text": [
      "enter : aaa\n",
      "name is :  abdulaziz  courses are :  ['ccc']\n"
     ]
    }
   ],
   "source": [
    "class student:\n",
    "    \n",
    "    def __init__(self,name):\n",
    "        self.name = name\n",
    "        self.c_list=[]\n",
    "    def add(self,new):\n",
    "        self.c_list.append(new)\n",
    "    def re(self,x):\n",
    "        self.c_list.remove(x)\n",
    "        \n",
    "        \n",
    "\n",
    "st = student(\"abdulaziz\")\n",
    "st.add(\"aaa\")\n",
    "st.add(\"ccc\")\n",
    "st.re(input(\"enter : \"))\n",
    "print(\"name is : \",st.name ,\" courses are : \" ,st.c_list)"
   ]
  },
  {
   "cell_type": "markdown",
   "metadata": {},
   "source": [
    "# 2.2. Inheritance"
   ]
  },
  {
   "cell_type": "code",
   "execution_count": 48,
   "metadata": {},
   "outputs": [
    {
     "name": "stdout",
     "output_type": "stream",
     "text": [
      "abdulaziz alhejaili\n"
     ]
    }
   ],
   "source": [
    "class p:\n",
    "    def __init__(self,fname,lname):\n",
    "        self.fname = fname\n",
    "        self.lname = lname\n",
    "        \n",
    "    def printname(self):\n",
    "        print(self.fname,self.lname)\n",
    "        \n",
    "        \n",
    "class pro(p):\n",
    "    pass\n",
    "mhd = pro(\"abdulaziz\",\"alhejaili\")\n",
    "mhd.printname()\n"
   ]
  },
  {
   "cell_type": "markdown",
   "metadata": {},
   "source": [
    "# Exercise 2.4\n",
    "\n",
    "<h2>In the code above, the class Professor contains a pass keyword. What did this mean? <h2>\n",
    "    <p>Pass everything related to Super Class<p>"
   ]
  },
  {
   "cell_type": "markdown",
   "metadata": {},
   "source": [
    "# Exercise 2.5"
   ]
  },
  {
   "cell_type": "code",
   "execution_count": 20,
   "metadata": {},
   "outputs": [
    {
     "name": "stdout",
     "output_type": "stream",
     "text": [
      "abdulaziz alhejaili\n",
      "44\n"
     ]
    }
   ],
   "source": [
    "class p:\n",
    "    def __init__(self, fname, lname):\n",
    "        self.fristname = fname\n",
    "        self.lastname = lname       \n",
    "    def printname(self):\n",
    "        print(self.fristname, self.lastname)\n",
    "\n",
    "\n",
    "class pro(p):\n",
    "    def __init__(self,fname,lname,idd):\n",
    "        p.__init__(self, fname, lname)\n",
    "        self.idd = idd\n",
    "    \n",
    "        \n",
    "    \n",
    "   \n",
    "    \n",
    "mhd = pro(\"abdulaziz\",\"alhejaili\",44)\n",
    "mhd.printname()\n",
    "print(mhd.idd)"
   ]
  },
  {
   "cell_type": "markdown",
   "metadata": {},
   "source": [
    "# Exercise 2.3       "
   ]
  },
  {
   "cell_type": "code",
   "execution_count": 3,
   "metadata": {},
   "outputs": [
    {
     "name": "stdout",
     "output_type": "stream",
     "text": [
      "abdulaziz alhejaili\n"
     ]
    }
   ],
   "source": [
    "class p:\n",
    "    def __init__(self, fname, lname):\n",
    "        self.fristname = fname\n",
    "        self.lastname = lname       \n",
    "    def printname(self):\n",
    "        print(self.fristname, self.lastname)\n",
    "\n",
    "\n",
    "class pro(p):\n",
    "    def __init__(self,fname,lname):\n",
    "        p.__init__(self, fname,lname)\n",
    "        \n",
    "    \n",
    "        \n",
    "    \n",
    "   \n",
    "    \n",
    "mhd = pro(\"abdulaziz\",\"alhejaili\")\n",
    "mhd.printname()\n"
   ]
  },
  {
   "cell_type": "code",
   "execution_count": null,
   "metadata": {},
   "outputs": [],
   "source": []
  }
 ],
 "metadata": {
  "kernelspec": {
   "display_name": "Python 3",
   "language": "python",
   "name": "python3"
  },
  "language_info": {
   "codemirror_mode": {
    "name": "ipython",
    "version": 3
   },
   "file_extension": ".py",
   "mimetype": "text/x-python",
   "name": "python",
   "nbconvert_exporter": "python",
   "pygments_lexer": "ipython3",
   "version": "3.7.4"
  }
 },
 "nbformat": 4,
 "nbformat_minor": 2
}
